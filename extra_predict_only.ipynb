{
 "cells": [
  {
   "cell_type": "code",
   "execution_count": null,
   "metadata": {},
   "outputs": [],
   "source": [
    "import numpy as np \n",
    "\n",
    "from keras.utils import to_categorical\n",
    "\n",
    "from sklearn import preprocessing\n",
    "from sklearn.preprocessing import LabelEncoder\n",
    "dataset = '/Users/ns/development/iisc/WLDS2/data/extra/dataset_1.csv'\n",
    "\n",
    "dataset_df = pd.read_csv(dataset)\n",
    "dataset_df.head()\n",
    "normalised = False\n",
    "\n",
    "\n",
    "ind_columns = ['spectral_centroid', 'spectral_bandwidth',\n",
    "               'spectral_rolloff', 'onset_strength',\n",
    "               'mfcc', 'zero_crossing_rate', 'percussion']\n",
    "\n",
    "y_extra = np.array(dataset_df['label']).tolist()\n",
    "#print(y)\n",
    "le = LabelEncoder()\n",
    "#- labels into class\n",
    "y_extra = to_categorical(le.fit_transform(y))\n",
    "\n",
    "if normalised:\n",
    "    #for normalised\n",
    "\n",
    "    feature_arr = np.array(dataset_df[ind_columns])\n",
    "    Xtra = preprocessing.normalize(feature_arr)\n",
    "    print(\"Xtra:\", Xtra)\n",
    "    out_file_path = '/Users/ns/development/iisc/WLDS2/extra/notmal_out/'\n",
    "else:\n",
    "    #for un_normalised\n",
    "    Xtra = np.array(dataset_df[ind_columns])\n",
    "    out_file_path = '/Users/ns/development/iisc/WLDS2/extra/un_normal_out/'\n",
    "\n",
    "\n",
    "pred = model.predict(Xtra)\n",
    "pred = np.argmax(pred, axis=1)\n",
    "label = np.argmax(y_test, axis=1)\n",
    "print(\"Pred\", pred)\n",
    "print(\"label\", label )\n",
    "\n"
   ]
  }
 ],
 "metadata": {
  "kernelspec": {
   "display_name": "Python 3.9.1 64-bit",
   "language": "python",
   "name": "python3"
  },
  "language_info": {
   "name": "python",
   "version": "3.9.1"
  },
  "orig_nbformat": 4,
  "vscode": {
   "interpreter": {
    "hash": "aee8b7b246df8f9039afb4144a1f6fd8d2ca17a180786b69acc140d282b71a49"
   }
  }
 },
 "nbformat": 4,
 "nbformat_minor": 2
}
