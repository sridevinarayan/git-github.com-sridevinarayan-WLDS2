{
 "cells": [
  {
   "cell_type": "code",
   "execution_count": 1,
   "metadata": {},
   "outputs": [],
   "source": [
    "#Concise feature extraction\n",
    "import librosa\n",
    "from librosa import feature\n",
    "import numpy as np\n",
    "from sklearn.preprocessing import normalize\n",
    "from functools import reduce\n",
    "\n",
    "def get_percussion(y):\n",
    "    har, perc =   librosa.decompose.hpss(np.abs(librosa.stft(y)), margin=16)\n",
    "    return perc\n",
    "\n",
    "\n",
    "fn_list_i = [\n",
    "   # feature.chroma_stft,\n",
    "    feature.spectral_centroid,\n",
    "    feature.spectral_bandwidth,\n",
    "    feature.spectral_rolloff, \n",
    "    librosa.onset.onset_strength,\n",
    "    librosa.feature.mfcc\n",
    "]\n",
    "\n",
    "fn_list_ii = [\n",
    "#    feature.rmse,\n",
    "    feature.zero_crossing_rate,\n",
    "    get_percussion\n",
    "]\n",
    "\n",
    "\n",
    "def get_feature_vector(y, sr):\n",
    "   feat_vect_i = [np.mean(funct(y, sr)) for funct in fn_list_i]\n",
    "   feat_vect_ii = [np.mean(funct(y)) for funct in fn_list_ii]\n",
    "   feature_vector = feat_vect_i + feat_vect_ii\n",
    "   return feature_vector\n"
   ]
  },
  {
   "cell_type": "code",
   "execution_count": 2,
   "metadata": {},
   "outputs": [],
   "source": [
    "#Classify features\n",
    "# The naming convention for files:\n",
    "#Anything with *D.wav is a a water leak - ht, medium, slow, fast drips\n",
    "#Anything with *N.wav is white  noise / ambient nouse\n",
    "#Anything with *R?.wav or HW is running water or running tap or falling from a height\n",
    "\n",
    "run = ['RW', 'RT', 'HW']\n",
    "leak = ['FD', 'MD', 'SD', 'SP', 'HD']\n",
    "noise = ['WN', 'AN']\n",
    "\n",
    "def classify_datafile(datafile): \n",
    "    file, ext = os.path.splitext(datafile)\n",
    "    [rest, cl_str] = file.rsplit(\"_\", 1)\n",
    "    #print(datafile)\n",
    "    if cl_str in leak: \n",
    "        classify =  ['leak']\n",
    "    # elif cl_str in run :\n",
    "    #     classify =  ['running water']\n",
    "    else:\n",
    "        classify = ['running water/noise']\n",
    "    #endif\n",
    "    #print(classify)\n",
    "    return classify\n"
   ]
  },
  {
   "cell_type": "code",
   "execution_count": 3,
   "metadata": {},
   "outputs": [
    {
     "name": "stderr",
     "output_type": "stream",
     "text": [
      "  0%|          | 0/59 [00:00<?, ?it/s]"
     ]
    },
    {
     "name": "stdout",
     "output_type": "stream",
     "text": [
      "Extracting Features for   /Users/ns/development/iisc/WLDS2/data/WAV/data_47_AN.wav\n"
     ]
    },
    {
     "name": "stderr",
     "output_type": "stream",
     "text": [
      "  2%|▏         | 1/59 [00:03<03:46,  3.91s/it]"
     ]
    },
    {
     "name": "stdout",
     "output_type": "stream",
     "text": [
      "Extracting Features for   /Users/ns/development/iisc/WLDS2/data/WAV/data_53_HW.wav\n"
     ]
    },
    {
     "name": "stderr",
     "output_type": "stream",
     "text": [
      "  3%|▎         | 2/59 [00:06<03:03,  3.22s/it]"
     ]
    },
    {
     "name": "stdout",
     "output_type": "stream",
     "text": [
      "Extracting Features for   /Users/ns/development/iisc/WLDS2/data/WAV/data_59_AN.wav\n"
     ]
    },
    {
     "name": "stderr",
     "output_type": "stream",
     "text": [
      "  5%|▌         | 3/59 [00:09<02:48,  3.01s/it]"
     ]
    },
    {
     "name": "stdout",
     "output_type": "stream",
     "text": [
      "Extracting Features for   /Users/ns/development/iisc/WLDS2/data/WAV/data_24_AN.wav\n"
     ]
    },
    {
     "name": "stderr",
     "output_type": "stream",
     "text": [
      "  7%|▋         | 4/59 [00:11<02:31,  2.75s/it]"
     ]
    },
    {
     "name": "stdout",
     "output_type": "stream",
     "text": [
      "Extracting Features for   /Users/ns/development/iisc/WLDS2/data/WAV/data_27_RT.wav\n"
     ]
    },
    {
     "name": "stderr",
     "output_type": "stream",
     "text": [
      "  8%|▊         | 5/59 [00:14<02:25,  2.69s/it]"
     ]
    },
    {
     "name": "stdout",
     "output_type": "stream",
     "text": [
      "Extracting Features for   /Users/ns/development/iisc/WLDS2/data/WAV/data_1_RT.wav\n"
     ]
    },
    {
     "name": "stderr",
     "output_type": "stream",
     "text": [
      " 10%|█         | 6/59 [00:15<01:47,  2.02s/it]"
     ]
    },
    {
     "name": "stdout",
     "output_type": "stream",
     "text": [
      "Extracting Features for   /Users/ns/development/iisc/WLDS2/data/WAV/data_11_RW.wav\n"
     ]
    },
    {
     "name": "stderr",
     "output_type": "stream",
     "text": [
      " 12%|█▏        | 7/59 [00:17<01:55,  2.21s/it]"
     ]
    },
    {
     "name": "stdout",
     "output_type": "stream",
     "text": [
      "Extracting Features for   /Users/ns/development/iisc/WLDS2/data/WAV/data_39_FD.wav\n"
     ]
    },
    {
     "name": "stderr",
     "output_type": "stream",
     "text": [
      " 14%|█▎        | 8/59 [00:20<01:56,  2.28s/it]"
     ]
    },
    {
     "name": "stdout",
     "output_type": "stream",
     "text": [
      "Extracting Features for   /Users/ns/development/iisc/WLDS2/data/WAV/data_44_RW.wav\n"
     ]
    },
    {
     "name": "stderr",
     "output_type": "stream",
     "text": [
      " 15%|█▌        | 9/59 [00:22<01:54,  2.29s/it]"
     ]
    },
    {
     "name": "stdout",
     "output_type": "stream",
     "text": [
      "Extracting Features for   /Users/ns/development/iisc/WLDS2/data/WAV/data_48_RW.wav\n"
     ]
    },
    {
     "name": "stderr",
     "output_type": "stream",
     "text": [
      " 17%|█▋        | 10/59 [00:25<02:08,  2.62s/it]"
     ]
    },
    {
     "name": "stdout",
     "output_type": "stream",
     "text": [
      "Extracting Features for   /Users/ns/development/iisc/WLDS2/data/WAV/data_60_FD.wav\n"
     ]
    },
    {
     "name": "stderr",
     "output_type": "stream",
     "text": [
      " 19%|█▊        | 11/59 [00:28<02:02,  2.54s/it]"
     ]
    },
    {
     "name": "stdout",
     "output_type": "stream",
     "text": [
      "Extracting Features for   /Users/ns/development/iisc/WLDS2/data/WAV/data_5_WN.wav\n"
     ]
    },
    {
     "name": "stderr",
     "output_type": "stream",
     "text": [
      " 20%|██        | 12/59 [00:29<01:48,  2.30s/it]"
     ]
    },
    {
     "name": "stdout",
     "output_type": "stream",
     "text": [
      "Extracting Features for   /Users/ns/development/iisc/WLDS2/data/WAV/data_13_FD.wav\n"
     ]
    },
    {
     "name": "stderr",
     "output_type": "stream",
     "text": [
      " 22%|██▏       | 13/59 [00:32<01:43,  2.25s/it]"
     ]
    },
    {
     "name": "stdout",
     "output_type": "stream",
     "text": [
      "Extracting Features for   /Users/ns/development/iisc/WLDS2/data/WAV/data_26_AN.wav\n"
     ]
    },
    {
     "name": "stderr",
     "output_type": "stream",
     "text": [
      " 24%|██▎       | 14/59 [00:34<01:50,  2.45s/it]"
     ]
    },
    {
     "name": "stdout",
     "output_type": "stream",
     "text": [
      "Extracting Features for   /Users/ns/development/iisc/WLDS2/data/WAV/data_38_AN.wav\n"
     ]
    },
    {
     "name": "stderr",
     "output_type": "stream",
     "text": [
      " 25%|██▌       | 15/59 [00:37<01:52,  2.55s/it]"
     ]
    },
    {
     "name": "stdout",
     "output_type": "stream",
     "text": [
      "Extracting Features for   /Users/ns/development/iisc/WLDS2/data/WAV/data_34_AN.wav\n"
     ]
    },
    {
     "name": "stderr",
     "output_type": "stream",
     "text": [
      " 27%|██▋       | 16/59 [00:42<02:18,  3.21s/it]"
     ]
    },
    {
     "name": "stdout",
     "output_type": "stream",
     "text": [
      "Extracting Features for   /Users/ns/development/iisc/WLDS2/data/WAV/data_3_SD.wav\n"
     ]
    },
    {
     "name": "stderr",
     "output_type": "stream",
     "text": [
      " 29%|██▉       | 17/59 [00:44<01:59,  2.85s/it]"
     ]
    },
    {
     "name": "stdout",
     "output_type": "stream",
     "text": [
      "Extracting Features for   /Users/ns/development/iisc/WLDS2/data/WAV/data_29_RT.wav\n"
     ]
    },
    {
     "name": "stderr",
     "output_type": "stream",
     "text": [
      " 31%|███       | 18/59 [00:47<01:55,  2.83s/it]"
     ]
    },
    {
     "name": "stdout",
     "output_type": "stream",
     "text": [
      "Extracting Features for   /Users/ns/development/iisc/WLDS2/data/WAV/data_46_RT.wav\n"
     ]
    },
    {
     "name": "stderr",
     "output_type": "stream",
     "text": [
      " 32%|███▏      | 19/59 [00:49<01:45,  2.63s/it]"
     ]
    },
    {
     "name": "stdout",
     "output_type": "stream",
     "text": [
      "Extracting Features for   /Users/ns/development/iisc/WLDS2/data/WAV/data_66_FD.wav\n"
     ]
    },
    {
     "name": "stderr",
     "output_type": "stream",
     "text": [
      " 34%|███▍      | 20/59 [00:52<01:51,  2.87s/it]"
     ]
    },
    {
     "name": "stdout",
     "output_type": "stream",
     "text": [
      "Extracting Features for   /Users/ns/development/iisc/WLDS2/data/WAV/data_17_RW.wav\n"
     ]
    },
    {
     "name": "stderr",
     "output_type": "stream",
     "text": [
      " 36%|███▌      | 21/59 [00:55<01:42,  2.70s/it]"
     ]
    },
    {
     "name": "stdout",
     "output_type": "stream",
     "text": [
      "Extracting Features for   /Users/ns/development/iisc/WLDS2/data/WAV/data_21_FD.wav\n"
     ]
    },
    {
     "name": "stderr",
     "output_type": "stream",
     "text": [
      " 37%|███▋      | 22/59 [00:58<01:44,  2.83s/it]"
     ]
    },
    {
     "name": "stdout",
     "output_type": "stream",
     "text": [
      "Extracting Features for   /Users/ns/development/iisc/WLDS2/data/WAV/data_7_FD.wav\n"
     ]
    },
    {
     "name": "stderr",
     "output_type": "stream",
     "text": [
      " 39%|███▉      | 23/59 [01:01<01:42,  2.85s/it]"
     ]
    },
    {
     "name": "stdout",
     "output_type": "stream",
     "text": [
      "Extracting Features for   /Users/ns/development/iisc/WLDS2/data/WAV/data_33_SP.wav\n"
     ]
    },
    {
     "name": "stderr",
     "output_type": "stream",
     "text": [
      " 41%|████      | 24/59 [01:03<01:36,  2.74s/it]"
     ]
    },
    {
     "name": "stdout",
     "output_type": "stream",
     "text": [
      "Extracting Features for   /Users/ns/development/iisc/WLDS2/data/WAV/data_9_FD.wav\n"
     ]
    },
    {
     "name": "stderr",
     "output_type": "stream",
     "text": [
      " 42%|████▏     | 25/59 [01:06<01:39,  2.91s/it]"
     ]
    },
    {
     "name": "stdout",
     "output_type": "stream",
     "text": [
      "Extracting Features for   /Users/ns/development/iisc/WLDS2/data/WAV/data_43_AN.wav\n"
     ]
    },
    {
     "name": "stderr",
     "output_type": "stream",
     "text": [
      " 44%|████▍     | 26/59 [01:09<01:32,  2.80s/it]"
     ]
    },
    {
     "name": "stdout",
     "output_type": "stream",
     "text": [
      "Extracting Features for   /Users/ns/development/iisc/WLDS2/data/WAV/data_63_HD.wav\n"
     ]
    },
    {
     "name": "stderr",
     "output_type": "stream",
     "text": [
      " 46%|████▌     | 27/59 [01:12<01:27,  2.72s/it]"
     ]
    },
    {
     "name": "stdout",
     "output_type": "stream",
     "text": [
      "Extracting Features for   /Users/ns/development/iisc/WLDS2/data/WAV/data_51_AN.wav\n"
     ]
    },
    {
     "name": "stderr",
     "output_type": "stream",
     "text": [
      " 47%|████▋     | 28/59 [01:14<01:20,  2.59s/it]"
     ]
    },
    {
     "name": "stdout",
     "output_type": "stream",
     "text": [
      "Extracting Features for   /Users/ns/development/iisc/WLDS2/data/WAV/data_23_FD.wav\n"
     ]
    },
    {
     "name": "stderr",
     "output_type": "stream",
     "text": [
      " 49%|████▉     | 29/59 [01:16<01:14,  2.47s/it]"
     ]
    },
    {
     "name": "stdout",
     "output_type": "stream",
     "text": [
      "Extracting Features for   /Users/ns/development/iisc/WLDS2/data/WAV/data_31_FD.wav\n"
     ]
    },
    {
     "name": "stderr",
     "output_type": "stream",
     "text": [
      " 51%|█████     | 30/59 [01:18<01:10,  2.42s/it]"
     ]
    },
    {
     "name": "stdout",
     "output_type": "stream",
     "text": [
      "Extracting Features for   /Users/ns/development/iisc/WLDS2/data/WAV/data_19_RW.wav\n"
     ]
    },
    {
     "name": "stderr",
     "output_type": "stream",
     "text": [
      " 53%|█████▎    | 31/59 [01:21<01:08,  2.43s/it]"
     ]
    },
    {
     "name": "stdout",
     "output_type": "stream",
     "text": [
      "Extracting Features for   /Users/ns/development/iisc/WLDS2/data/WAV/data_64_RW.wav\n"
     ]
    },
    {
     "name": "stderr",
     "output_type": "stream",
     "text": [
      " 54%|█████▍    | 32/59 [01:23<01:01,  2.28s/it]"
     ]
    },
    {
     "name": "stdout",
     "output_type": "stream",
     "text": [
      "Extracting Features for   /Users/ns/development/iisc/WLDS2/data/WAV/data_10_FD.wav\n"
     ]
    },
    {
     "name": "stderr",
     "output_type": "stream",
     "text": [
      " 56%|█████▌    | 33/59 [01:25<00:59,  2.30s/it]"
     ]
    },
    {
     "name": "stdout",
     "output_type": "stream",
     "text": [
      "Extracting Features for   /Users/ns/development/iisc/WLDS2/data/WAV/data_61_FD.wav\n"
     ]
    },
    {
     "name": "stderr",
     "output_type": "stream",
     "text": [
      " 58%|█████▊    | 34/59 [01:28<01:01,  2.47s/it]"
     ]
    },
    {
     "name": "stdout",
     "output_type": "stream",
     "text": [
      "Extracting Features for   /Users/ns/development/iisc/WLDS2/data/WAV/data_45_FD.wav\n"
     ]
    },
    {
     "name": "stderr",
     "output_type": "stream",
     "text": [
      " 59%|█████▉    | 35/59 [01:30<00:58,  2.45s/it]"
     ]
    },
    {
     "name": "stdout",
     "output_type": "stream",
     "text": [
      "Extracting Features for   /Users/ns/development/iisc/WLDS2/data/WAV/data_49_RT.wav\n"
     ]
    },
    {
     "name": "stderr",
     "output_type": "stream",
     "text": [
      " 61%|██████    | 36/59 [01:33<00:55,  2.43s/it]"
     ]
    },
    {
     "name": "stdout",
     "output_type": "stream",
     "text": [
      "Extracting Features for   /Users/ns/development/iisc/WLDS2/data/WAV/data_37_AN.wav\n"
     ]
    },
    {
     "name": "stderr",
     "output_type": "stream",
     "text": [
      " 63%|██████▎   | 37/59 [01:35<00:53,  2.44s/it]"
     ]
    },
    {
     "name": "stdout",
     "output_type": "stream",
     "text": [
      "Extracting Features for   /Users/ns/development/iisc/WLDS2/data/WAV/data_25_AN.wav\n"
     ]
    },
    {
     "name": "stderr",
     "output_type": "stream",
     "text": [
      " 64%|██████▍   | 38/59 [01:39<00:56,  2.71s/it]"
     ]
    },
    {
     "name": "stdout",
     "output_type": "stream",
     "text": [
      "Extracting Features for   /Users/ns/development/iisc/WLDS2/data/WAV/data_58_AN.wav\n"
     ]
    },
    {
     "name": "stderr",
     "output_type": "stream",
     "text": [
      " 66%|██████▌   | 39/59 [01:43<01:05,  3.28s/it]"
     ]
    },
    {
     "name": "stdout",
     "output_type": "stream",
     "text": [
      "Extracting Features for   /Users/ns/development/iisc/WLDS2/data/WAV/data_28_RT.wav\n"
     ]
    },
    {
     "name": "stderr",
     "output_type": "stream",
     "text": [
      " 68%|██████▊   | 40/59 [01:46<00:58,  3.08s/it]"
     ]
    },
    {
     "name": "stdout",
     "output_type": "stream",
     "text": [
      "Extracting Features for   /Users/ns/development/iisc/WLDS2/data/WAV/data_ 20_FD.wav\n"
     ]
    },
    {
     "name": "stderr",
     "output_type": "stream",
     "text": [
      " 69%|██████▉   | 41/59 [01:49<00:54,  3.02s/it]"
     ]
    },
    {
     "name": "stdout",
     "output_type": "stream",
     "text": [
      "Extracting Features for   /Users/ns/development/iisc/WLDS2/data/WAV/data_35_AN.wav\n"
     ]
    },
    {
     "name": "stderr",
     "output_type": "stream",
     "text": [
      " 71%|███████   | 42/59 [01:51<00:48,  2.87s/it]"
     ]
    },
    {
     "name": "stdout",
     "output_type": "stream",
     "text": [
      "Extracting Features for   /Users/ns/development/iisc/WLDS2/data/WAV/data_6_MD.wav\n"
     ]
    },
    {
     "name": "stderr",
     "output_type": "stream",
     "text": [
      " 73%|███████▎  | 43/59 [01:56<00:53,  3.35s/it]"
     ]
    },
    {
     "name": "stdout",
     "output_type": "stream",
     "text": [
      "Extracting Features for   /Users/ns/development/iisc/WLDS2/data/WAV/data_Y_32_FD.wav\n"
     ]
    },
    {
     "name": "stderr",
     "output_type": "stream",
     "text": [
      " 75%|███████▍  | 44/59 [01:58<00:47,  3.16s/it]"
     ]
    },
    {
     "name": "stdout",
     "output_type": "stream",
     "text": [
      "Extracting Features for   /Users/ns/development/iisc/WLDS2/data/WAV/data_52_AN.wav\n"
     ]
    },
    {
     "name": "stderr",
     "output_type": "stream",
     "text": [
      " 76%|███████▋  | 45/59 [02:01<00:40,  2.91s/it]"
     ]
    },
    {
     "name": "stdout",
     "output_type": "stream",
     "text": [
      "Extracting Features for   /Users/ns/development/iisc/WLDS2/data/WAV/data_67_RT.wav\n"
     ]
    },
    {
     "name": "stderr",
     "output_type": "stream",
     "text": [
      " 78%|███████▊  | 46/59 [02:04<00:40,  3.12s/it]"
     ]
    },
    {
     "name": "stdout",
     "output_type": "stream",
     "text": [
      "Extracting Features for   /Users/ns/development/iisc/WLDS2/data/WAV/data_36_MD.wav\n"
     ]
    },
    {
     "name": "stderr",
     "output_type": "stream",
     "text": [
      " 80%|███████▉  | 47/59 [02:07<00:35,  2.99s/it]"
     ]
    },
    {
     "name": "stdout",
     "output_type": "stream",
     "text": [
      "Extracting Features for   /Users/ns/development/iisc/WLDS2/data/WAV/data_54_HW.wav\n"
     ]
    },
    {
     "name": "stderr",
     "output_type": "stream",
     "text": [
      " 81%|████████▏ | 48/59 [02:10<00:31,  2.90s/it]"
     ]
    },
    {
     "name": "stdout",
     "output_type": "stream",
     "text": [
      "Extracting Features for   /Users/ns/development/iisc/WLDS2/data/WAV/data_12_MD.wav\n"
     ]
    },
    {
     "name": "stderr",
     "output_type": "stream",
     "text": [
      " 83%|████████▎ | 49/59 [02:14<00:33,  3.35s/it]"
     ]
    },
    {
     "name": "stdout",
     "output_type": "stream",
     "text": [
      "Extracting Features for   /Users/ns/development/iisc/WLDS2/data/WAV/data_2_WN.wav\n"
     ]
    },
    {
     "name": "stderr",
     "output_type": "stream",
     "text": [
      " 85%|████████▍ | 50/59 [02:17<00:29,  3.31s/it]"
     ]
    },
    {
     "name": "stdout",
     "output_type": "stream",
     "text": [
      "Extracting Features for   /Users/ns/development/iisc/WLDS2/data/WAV/data_22_FD.wav\n"
     ]
    },
    {
     "name": "stderr",
     "output_type": "stream",
     "text": [
      " 86%|████████▋ | 51/59 [02:20<00:24,  3.00s/it]"
     ]
    },
    {
     "name": "stdout",
     "output_type": "stream",
     "text": [
      "Extracting Features for   /Users/ns/development/iisc/WLDS2/data/WAV/data_65_FD.wav\n"
     ]
    },
    {
     "name": "stderr",
     "output_type": "stream",
     "text": [
      " 88%|████████▊ | 52/59 [02:22<00:19,  2.81s/it]"
     ]
    },
    {
     "name": "stdout",
     "output_type": "stream",
     "text": [
      "Extracting Features for   /Users/ns/development/iisc/WLDS2/data/WAV/data_18_FD.wav\n"
     ]
    },
    {
     "name": "stderr",
     "output_type": "stream",
     "text": [
      " 90%|████████▉ | 53/59 [02:24<00:16,  2.69s/it]"
     ]
    },
    {
     "name": "stdout",
     "output_type": "stream",
     "text": [
      "Extracting Features for   /Users/ns/development/iisc/WLDS2/data/WAV/data_14_FD.wav\n"
     ]
    },
    {
     "name": "stderr",
     "output_type": "stream",
     "text": [
      " 92%|█████████▏| 54/59 [02:27<00:13,  2.66s/it]"
     ]
    },
    {
     "name": "stdout",
     "output_type": "stream",
     "text": [
      "Extracting Features for   /Users/ns/development/iisc/WLDS2/data/WAV/data_8_RW.wav\n"
     ]
    },
    {
     "name": "stderr",
     "output_type": "stream",
     "text": [
      " 93%|█████████▎| 55/59 [02:29<00:10,  2.57s/it]"
     ]
    },
    {
     "name": "stdout",
     "output_type": "stream",
     "text": [
      "Extracting Features for   /Users/ns/development/iisc/WLDS2/data/WAV/data_4_RW.wav\n"
     ]
    },
    {
     "name": "stderr",
     "output_type": "stream",
     "text": [
      " 95%|█████████▍| 56/59 [02:31<00:06,  2.30s/it]"
     ]
    },
    {
     "name": "stdout",
     "output_type": "stream",
     "text": [
      "Extracting Features for   /Users/ns/development/iisc/WLDS2/data/WAV/data_62_HD.wav\n"
     ]
    },
    {
     "name": "stderr",
     "output_type": "stream",
     "text": [
      " 97%|█████████▋| 57/59 [02:33<00:04,  2.28s/it]"
     ]
    },
    {
     "name": "stdout",
     "output_type": "stream",
     "text": [
      "Extracting Features for   /Users/ns/development/iisc/WLDS2/data/WAV/data_50_AN.wav\n"
     ]
    },
    {
     "name": "stderr",
     "output_type": "stream",
     "text": [
      " 98%|█████████▊| 58/59 [02:35<00:02,  2.18s/it]"
     ]
    },
    {
     "name": "stdout",
     "output_type": "stream",
     "text": [
      "Extracting Features for   /Users/ns/development/iisc/WLDS2/data/WAV/data_30_RT.wav\n"
     ]
    },
    {
     "name": "stderr",
     "output_type": "stream",
     "text": [
      "100%|██████████| 59/59 [02:38<00:00,  2.68s/it]\n"
     ]
    }
   ],
   "source": [
    "#main cell \n",
    "#reads each file, extracts features\n",
    "#and saves in a ''/Users/ns/development/iisc/WLDS/data/out/dataset_1.csv'\n",
    "#this dataset should be used for training  \n",
    "###---------------------------------------------\n",
    "from tqdm import tqdm\n",
    "import os\n",
    "import pandas as pd\n",
    "\n",
    "# read each file\n",
    "# extract features in a dict\n",
    "# put them in a list\n",
    "# convert to data frame\n",
    "import warnings\n",
    "warnings.filterwarnings('ignore')\n",
    "\n",
    "data_file_path = '/Users/ns/development/iisc/WLDS2/data/WAV/'\n",
    "out_file_path = '/Users/ns/development/iisc/WLDS2/data/out/'\n",
    "header = ['Sample#', 'spectral_centroid', 'spectral_bandwidth',\n",
    "          'spectral_rolloff', 'onset_strength',\n",
    "          'mfcc', 'zero_crossing_rate', 'percussion', 'label']\n",
    "f_header = header[1:7] #extract only features\n",
    "samples = os.listdir(data_file_path)\n",
    "#print(samples)\n",
    "feature_list = []\n",
    "for datafile in tqdm(samples):\n",
    "    data_f = data_file_path + datafile\n",
    "    print('Extracting Features for  ',data_f)\n",
    "    y, sr = librosa.load(data_f)\n",
    "    feature_vector = get_feature_vector(y, sr) \n",
    "    label = classify_datafile(datafile)\n",
    "    Sno = samples.index(datafile) \n",
    "    feature_list.append([Sno] + feature_vector + label)\n",
    "#end for\n",
    "\n",
    "#normalize and save the dataset. \n",
    "\n",
    "#print(feature_list) \n",
    "feature_df = pd.DataFrame(feature_list, columns=header)\n",
    "#feature_df[f_header] = normalize(feature_df[f_header].to_numpy())\n",
    "feature_df.to_csv(out_file_path + 'dataset_1.csv', index=False)\n",
    "\n",
    "##end\n"
   ]
  },
  {
   "cell_type": "markdown",
   "metadata": {},
   "source": [
    "<!--\n",
    " Copyright 2022 ns\n",
    " \n",
    " Licensed under the Apache License, Version 2.0 (the \"License\");\n",
    " you may not use this file except in compliance with the License.\n",
    " You may obtain a copy of the License at\n",
    " \n",
    "     http://www.apache.org/licenses/LICENSE-2.0\n",
    " \n",
    " Unless required by applicable law or agreed to in writing, software\n",
    " distributed under the License is distributed on an \"AS IS\" BASIS,\n",
    " WITHOUT WARRANTIES OR CONDITIONS OF ANY KIND, either express or implied.\n",
    " See the License for the specific language governing permissions and\n",
    " limitations under the License.\n",
    "-->\n",
    "\n"
   ]
  }
 ],
 "metadata": {
  "kernelspec": {
   "display_name": "Python 3.9.1 64-bit",
   "language": "python",
   "name": "python3"
  },
  "language_info": {
   "codemirror_mode": {
    "name": "ipython",
    "version": 3
   },
   "file_extension": ".py",
   "mimetype": "text/x-python",
   "name": "python",
   "nbconvert_exporter": "python",
   "pygments_lexer": "ipython3",
   "version": "3.9.1"
  },
  "orig_nbformat": 4,
  "vscode": {
   "interpreter": {
    "hash": "aee8b7b246df8f9039afb4144a1f6fd8d2ca17a180786b69acc140d282b71a49"
   }
  }
 },
 "nbformat": 4,
 "nbformat_minor": 2
}
